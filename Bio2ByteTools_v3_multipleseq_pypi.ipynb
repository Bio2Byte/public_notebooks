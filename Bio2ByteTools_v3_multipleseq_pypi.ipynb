{
  "nbformat": 4,
  "nbformat_minor": 0,
  "metadata": {
    "colab": {
      "name": "B2B Tools - MSA Example",
      "private_outputs": true,
      "provenance": [],
      "collapsed_sections": [],
      "authorship_tag": "ABX9TyMZgy40I6X74pV+f5t/Dri3",
      "include_colab_link": true
    },
    "kernelspec": {
      "name": "python3",
      "display_name": "Python 3"
    },
    "language_info": {
      "name": "python"
    }
  },
  "cells": [
    {
      "cell_type": "markdown",
      "metadata": {
        "id": "view-in-github",
        "colab_type": "text"
      },
      "source": [
        "<a href=\"https://colab.research.google.com/github/Bio2Byte/public_notebooks/blob/main/Bio2ByteTools_v3_multipleseq_pypi.ipynb\" target=\"_parent\"><img src=\"https://colab.research.google.com/assets/colab-badge.svg\" alt=\"Open In Colab\"/></a>"
      ]
    },
    {
      "cell_type": "code",
      "execution_count": null,
      "metadata": {
        "cellView": "form",
        "id": "wzSJQsPWYV8Z"
      },
      "outputs": [],
      "source": [
        "#@title 1. Install the Bio2Byte tools package\n",
        "\n",
        "#@markdown Once this cell has been executed, a zip-archive with\n",
        "#@markdown the obtained prediction will be automatically downloaded\n",
        "#@markdown to your computer.\n",
        "\n",
        "!pip install b2bTools==3.0.1b5"
      ]
    },
    {
      "cell_type": "code",
      "source": [
        "#@title 2. Upload your MSA file\n",
        "\n",
        "#@markdown Once this cell has been executed, your target MSA file\n",
        "#@markdown will be ready to run the predictions on it\n",
        "from google.colab import files\n",
        "\n",
        "uploaded = files.upload()\n",
        "\n",
        "for fn in uploaded.keys():\n",
        "  print('MSA file \"{name}\" with length {length} bytes uploaded with success'.format(\n",
        "      name=fn, length=len(uploaded[fn])))\n",
        "  msa_filename = fn"
      ],
      "metadata": {
        "cellView": "form",
        "id": "7p6nFboEZHr2"
      },
      "execution_count": null,
      "outputs": []
    },
    {
      "cell_type": "code",
      "source": [
        "#@title 3. Get the predictions for each sequence of the alignment\n",
        "\n",
        "#@markdown Once this cell has been executed, the Bio2Byte tools predict\n",
        "#@markdown the values sequence by sequences of the alignment\n",
        "\n",
        "from b2bTools.multipleSeq.Predictor import MineSuiteMSA\n",
        "\n",
        "msaSuite = MineSuiteMSA()\n",
        "msaSuite.predictSeqsFromMSA(msaFile=\"/content/\" + msa_filename)"
      ],
      "metadata": {
        "cellView": "form",
        "id": "GRjKv52KaLRu"
      },
      "execution_count": null,
      "outputs": []
    },
    {
      "cell_type": "code",
      "source": [
        "#@title 4. Save the predictions to json files\n",
        "\n",
        "#@markdown Once this cell has been executed, a json file with\n",
        "#@markdown the obtained predictions will be automatically created for each\n",
        "#@markdown sequence of the alignment inside the /content/results folder\n",
        "\n",
        "import os\n",
        "from os import path\n",
        "\n",
        "if not path.exists(\"/content/results\"):\n",
        "    os.mkdir(\"/content/results\", )\n",
        "\n",
        "for id, seq in msaSuite.seqs:\n",
        "    print(\"PROCESSING SEQUENCE: id={id}\".format(id=id))\n",
        "\n",
        "    json_results = msaSuite.getAllPredictionsJson(identifier=id)\n",
        "    # print(json_results)\n",
        "    with open(\"/content/results/{msa}_{id}.json\".format(msa=msa_filename.replace(\"/\", \"_\"), id=id.replace(\"/\", \"_\")), \"w\") as file_output:\n",
        "        file_output.write(json_results)\n"
      ],
      "metadata": {
        "cellView": "form",
        "id": "5zgf8PmCb717"
      },
      "execution_count": null,
      "outputs": []
    },
    {
      "cell_type": "code",
      "source": [
        "#@title 5. Download the predictions\n",
        "\n",
        "#@markdown Once this cell has been executed, a zip-archive with\n",
        "#@markdown the obtained predictions will be automatically downloaded\n",
        "#@markdown to your computer.\n",
        "\n",
        "!zip -r /content/b2b-tools-msa.zip /content/results\n",
        "\n",
        "files.download(\"/content/b2b-tools-msa.zip\")"
      ],
      "metadata": {
        "cellView": "form",
        "id": "Nckxe9SPemTr"
      },
      "execution_count": null,
      "outputs": []
    }
  ]
}
