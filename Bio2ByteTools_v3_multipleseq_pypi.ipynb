{
  "nbformat": 4,
  "nbformat_minor": 0,
  "metadata": {
    "colab": {
      "name": "B2B Tools - MSA Example",
      "private_outputs": true,
      "provenance": [],
      "collapsed_sections": [],
      "authorship_tag": "ABX9TyORHna9p0gHRUybLO+7/F8p",
      "include_colab_link": true
    },
    "kernelspec": {
      "name": "python3",
      "display_name": "Python 3"
    },
    "language_info": {
      "name": "python"
    }
  },
  "cells": [
    {
      "cell_type": "markdown",
      "metadata": {
        "id": "view-in-github",
        "colab_type": "text"
      },
      "source": [
        "<a href=\"https://colab.research.google.com/github/Bio2Byte/public_notebooks/blob/main/Bio2ByteTools_v3_multipleseq_pypi.ipynb\" target=\"_parent\"><img src=\"https://colab.research.google.com/assets/colab-badge.svg\" alt=\"Open In Colab\"/></a>"
      ]
    },
    {
      "cell_type": "code",
      "execution_count": null,
      "metadata": {
        "cellView": "form",
        "id": "wzSJQsPWYV8Z"
      },
      "outputs": [],
      "source": [
        "#@title 1. Install the Bio2Byte tools package\n",
        "\n",
        "#@markdown Once this cell has been executed, a zip-archive with\n",
        "#@markdown the obtained prediction will be automatically downloaded\n",
        "#@markdown to your computer.\n",
        "\n",
        "!pip install b2bTools==3.0.1b5"
      ]
    },
    {
      "cell_type": "code",
      "source": [
        "#@title 2. Upload your MSA file\n",
        "\n",
        "#@markdown Once this cell has been executed, your target MSA file\n",
        "#@markdown will be ready to run the predictions on it\n",
        "from google.colab import files\n",
        "\n",
        "uploaded = files.upload()\n",
        "\n",
        "for fn in uploaded.keys():\n",
        "  print('MSA file \"{name}\" with length {length} bytes uploaded with success'.format(\n",
        "      name=fn, length=len(uploaded[fn])))\n",
        "  msa_filename = fn"
      ],
      "metadata": {
        "cellView": "form",
        "id": "7p6nFboEZHr2"
      },
      "execution_count": null,
      "outputs": []
    },
    {
      "cell_type": "code",
      "source": [
        "#@title 3. Get the predictions for each sequence of the alignment\n",
        "\n",
        "#@markdown Once this cell has been executed, the Bio2Byte tools predict\n",
        "#@markdown the values sequence by sequences of the alignment\n",
        "\n",
        "from b2bTools.multipleSeq.Predictor import MineSuiteMSA\n",
        "\n",
        "msaSuite = MineSuiteMSA()\n",
        "msaSuite.predictAndMapSeqsFromMSA(\"/content/\" + msa_filename)\n",
        "msaSuite.getDistributions()"
      ],
      "metadata": {
        "cellView": "form",
        "id": "GRjKv52KaLRu"
      },
      "execution_count": null,
      "outputs": []
    },
    {
      "cell_type": "code",
      "source": [
        "#@title 4. Save the predictions to json files\n",
        "\n",
        "#@markdown Once this cell has been executed, a json file with\n",
        "#@markdown the obtained predictions will be automatically created for each\n",
        "#@markdown sequence of the alignment inside the /content/results folder\n",
        "\n",
        "import os\n",
        "from os import path\n",
        "\n",
        "if not path.exists(\"/content/results\"):\n",
        "    os.mkdir(\"/content/results\", )\n",
        "\n",
        "for id, seq in msaSuite.seqs:\n",
        "    print(\"PROCESSING SEQUENCE: id={id}\".format(id=id))\n",
        "\n",
        "    json_results = msaSuite.getAllPredictionsJson(identifier=id)\n",
        "    # print(json_results)\n",
        "    with open(\"/content/results/{msa}_{id}.json\".format(msa=msa_filename.replace(\"/\", \"_\"), id=id.replace(\"/\", \"_\")), \"w\") as file_output:\n",
        "        file_output.write(json_results)\n"
      ],
      "metadata": {
        "cellView": "form",
        "id": "5zgf8PmCb717"
      },
      "execution_count": null,
      "outputs": []
    },
    {
      "cell_type": "code",
      "source": [
        "#@title 5. Download the predictions\n",
        "\n",
        "#@markdown Once this cell has been executed, a zip-archive with\n",
        "#@markdown the obtained predictions will be automatically downloaded\n",
        "#@markdown to your computer.\n",
        "\n",
        "!zip -r /content/b2b-tools-msa.zip /content/results\n",
        "\n",
        "files.download(\"/content/b2b-tools-msa.zip\")"
      ],
      "metadata": {
        "cellView": "form",
        "id": "Nckxe9SPemTr"
      },
      "execution_count": null,
      "outputs": []
    },
    {
      "cell_type": "code",
      "source": [
        "#@title 6.Plot the results\n",
        "#@markdown Once this cell has been executed, a plot\n",
        "#@markdown with the distributions will be render.\n",
        "\n",
        "\n",
        "import numpy as np\n",
        "import matplotlib.pyplot as plt\n",
        "\n",
        "def plot_msa_distrib(jsondata_list, mutation=False):\n",
        "    colors = ['blue', 'orange']\n",
        "\n",
        "    # These for loops got too complicated, I have to think\n",
        "    # something simpler to handle the None values in the data\n",
        "    for biophys_data in jsondata_list[0].keys():\n",
        "        for data, col in zip(jsondata_list, colors):\n",
        "            none_idx = []\n",
        "            for n in range(len(data[biophys_data]['median'])):\n",
        "                if data[biophys_data]['median'][n] == None \\\n",
        "                        or data[biophys_data][\n",
        "                    'firstQuartile'][n] == None \\\n",
        "                        or data[biophys_data][\n",
        "                    'thirdQuartile'][n] == None:\n",
        "                    none_idx.append(n)\n",
        "\n",
        "            range_list = []\n",
        "            for n in range(len(none_idx)):\n",
        "                try:\n",
        "                    if none_idx[n] + 1 != none_idx[n + 1]:\n",
        "                        range_list.append(\n",
        "                            (none_idx[n] + 1, none_idx[n + 1]))\n",
        "                    else:\n",
        "                        continue\n",
        "                except:\n",
        "                    if len(none_idx) == 1:\n",
        "                        range_list.append((0, none_idx[0]))\n",
        "                        range_list.append((none_idx[0] + 1, len(\n",
        "                            data[biophys_data][\n",
        "                                'median'])))\n",
        "\n",
        "                    else:\n",
        "                        range_list.append((0, none_idx[0]))\n",
        "                        range_list.append((none_idx[-1] + 1, len(\n",
        "                            data[biophys_data][\n",
        "                                'median'])))\n",
        "\n",
        "            # When there are None values in the data\n",
        "            if range_list:\n",
        "                for tuple in range_list:\n",
        "                    x = np.arange(tuple[0], tuple[1], 1)\n",
        "                    firstq = \\\n",
        "                        data[biophys_data][\n",
        "                            'firstQuartile'][\n",
        "                        tuple[0]:tuple[1]]\n",
        "                    thirdq = \\\n",
        "                        data[biophys_data][\n",
        "                            'thirdQuartile'][\n",
        "                        tuple[0]:tuple[1]]\n",
        "                    bottom = \\\n",
        "                        data[biophys_data][\n",
        "                            'bottomOutlier'][\n",
        "                        tuple[0]:tuple[1]]\n",
        "                    top = \\\n",
        "                        data[biophys_data]['topOutlier'][\n",
        "                        tuple[0]:tuple[1]]\n",
        "                    plt.fill_between(\n",
        "                        x, firstq, thirdq, alpha=0.5, color=col)\n",
        "                    plt.fill_between(\n",
        "                        x, bottom, top, alpha=0.25, color=col)\n",
        "\n",
        "            # When there aren't None values in the data\n",
        "            else:\n",
        "                x = np.arange(0, len(\n",
        "                    data[biophys_data]['median']), 1)\n",
        "                firstq = data[biophys_data][\n",
        "                    'firstQuartile']\n",
        "                thirdq = data[biophys_data][\n",
        "                    'thirdQuartile']\n",
        "                bottom = data[biophys_data][\n",
        "                    'bottomOutlier']\n",
        "                top = data[biophys_data]['topOutlier']\n",
        "                plt.fill_between(\n",
        "                    x, firstq, thirdq, alpha=0.5, color=col)\n",
        "                plt.fill_between(\n",
        "                    x, bottom, top, alpha=0.25, color=col)\n",
        "\n",
        "            plt.plot(data[biophys_data]['median'],\n",
        "                     linewidth=1, color=col)\n",
        "\n",
        "            if mutation:\n",
        "                print(mutation)\n",
        "                plt.plot(mutation['results'][biophys_data],\n",
        "                         linewidth=0.5, color='red')\n",
        "\n",
        "        plt.axis(\n",
        "            [0, len(data[biophys_data]['median']), 0, 1.1])\n",
        "        plt.ylabel(biophys_data)\n",
        "        plt.xlabel('Residue position')\n",
        "\n",
        "        plt.show()\n",
        "  \n",
        "jsondata_list = [msaSuite.alignedPredictionDistribs]\n",
        "plot_msa_distrib(jsondata_list, mutation=False)"
      ],
      "metadata": {
        "cellView": "form",
        "id": "EE_rrAuCpjIX"
      },
      "execution_count": null,
      "outputs": []
    }
  ]
}
