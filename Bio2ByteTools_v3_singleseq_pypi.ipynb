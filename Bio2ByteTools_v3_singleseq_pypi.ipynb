{
  "nbformat": 4,
  "nbformat_minor": 0,
  "metadata": {
    "colab": {
      "name": "PIP - B2B Tools",
      "provenance": [],
      "collapsed_sections": [],
      "private_outputs": true,
      "machine_shape": "hm",
      "authorship_tag": "ABX9TyOigulRFKOLYAYJ9om36CuS",
      "include_colab_link": true
    },
    "kernelspec": {
      "name": "python3",
      "display_name": "Python 3"
    },
    "language_info": {
      "name": "python"
    }
  },
  "cells": [
    {
      "cell_type": "markdown",
      "metadata": {
        "id": "view-in-github",
        "colab_type": "text"
      },
      "source": [
        "<a href=\"https://colab.research.google.com/github/Bio2Byte/public_notebooks/blob/main/Bio2ByteTools_v3_singleseq_pypi.ipynb\" target=\"_parent\"><img src=\"https://colab.research.google.com/assets/colab-badge.svg\" alt=\"Open In Colab\"/></a>"
      ]
    },
    {
      "cell_type": "code",
      "execution_count": null,
      "metadata": {
        "id": "YaxPffRnrSVW"
      },
      "outputs": [],
      "source": [
        "!pip install b2bTools"
      ]
    },
    {
      "cell_type": "code",
      "source": [
        "import os\n",
        "from matplotlib import pyplot as plt\n",
        "from b2bTools import SingleSeq"
      ],
      "metadata": {
        "id": "cKwsuaFgr3CT"
      },
      "execution_count": null,
      "outputs": []
    },
    {
      "cell_type": "code",
      "source": [
        "fasta = \"\"\">SEQ_1\n",
        "MAKSTILALLALVLVAHASAMRRERGRQGDSSSCERQVDRVNLKPCEQHIMQRIMGEQEQYDSYDIRSTRSSDQQQRCCDELNEMENTQRCMCEALQQIMENQCDRLQDRQMVQQFKRELMNLPQQCNFRAPQRCDLDVSGGRC\n",
        "\"\"\"\n",
        "\n",
        "with open(\"input_example1.fasta\", \"w\") as f:\n",
        "  f.write(fasta)"
      ],
      "metadata": {
        "id": "a4AYPR-ByvL4"
      },
      "execution_count": null,
      "outputs": []
    },
    {
      "cell_type": "code",
      "source": [
        "single_seq = SingleSeq(\"/content/input_example1.fasta\")"
      ],
      "metadata": {
        "id": "01dmlq9EytlJ"
      },
      "execution_count": null,
      "outputs": []
    },
    {
      "cell_type": "code",
      "source": [
        "single_seq.predict(tools=['dynamine', 'efoldmine', 'disomine', 'agmata'])\n",
        "\n",
        "all_predictions = single_seq.get_all_predictions()\n",
        "keys = list(all_predictions.keys())\n",
        "\n",
        "predictions = all_predictions[keys[0]]\n",
        "print(predictions.keys())\n",
        "\n",
        "backbone_pred = predictions['backbone']\n",
        "sidechain_pred = predictions['sidechain']\n",
        "disomine_pred = predictions['disoMine']\n",
        "earlyFolding_pred = predictions['earlyFolding'] \n",
        "\n",
        "plt.plot(range(len(backbone_pred)), backbone_pred, label = \"Backbone\")\n",
        "plt.plot(range(len(backbone_pred)), sidechain_pred, label = \"Sidechain\")\n",
        "plt.plot(range(len(disomine_pred)), disomine_pred, label = \"Disomine\")\n",
        "plt.plot(range(len(earlyFolding_pred)), earlyFolding_pred, label = \"earlyFolding\")\n",
        "\n",
        "plt.legend()\n",
        "plt.xlabel('aa_position')\n",
        "plt.ylabel('pred_values')\n",
        "plt.show()"
      ],
      "metadata": {
        "id": "KOH6FzXFrzw4"
      },
      "execution_count": null,
      "outputs": []
    },
    {
      "cell_type": "code",
      "source": [
        "agmata_pred = predictions['agmata']\n",
        "plt.plot(range(len(backbone_pred)), agmata_pred, label = \"Agmata\")"
      ],
      "metadata": {
        "id": "Zk-eH4fI3dSJ"
      },
      "execution_count": null,
      "outputs": []
    }
  ]
}
